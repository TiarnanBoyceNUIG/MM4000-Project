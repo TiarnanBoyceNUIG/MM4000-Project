{
 "cells": [
  {
   "cell_type": "code",
   "execution_count": 11,
   "id": "6b753a0a",
   "metadata": {},
   "outputs": [],
   "source": [
    "def solve(X, Y, solution=[]):\n",
    "    if not X:\n",
    "        yield list(solution)\n",
    "    else:\n",
    "        c = min(X, key=lambda c: len(X[c]))\n",
    "        for r in list(X[c]):\n",
    "            solution.append(r)\n",
    "            cols = select(X, Y, r)\n",
    "            for s in solve(X, Y, solution):\n",
    "                yield s\n",
    "            deselect(X, Y, r, cols)\n",
    "            solution.pop()\n",
    "\n",
    "def select(X, Y, r):\n",
    "    cols = []\n",
    "    for j in Y[r]:\n",
    "        for i in X[j]:\n",
    "            for k in Y[i]:\n",
    "                if k != j:\n",
    "                    X[k].remove(i)\n",
    "        cols.append(X.pop(j))\n",
    "    return cols\n",
    "\n",
    "def deselect(X, Y, r, cols):\n",
    "    for j in reversed(Y[r]):\n",
    "        X[j] = cols.pop()\n",
    "        for i in X[j]:\n",
    "            for k in Y[i]:\n",
    "                if k != j:\n",
    "                    X[k].add(i)\n",
    "                    \n",
    "\n"
   ]
  },
  {
   "cell_type": "code",
   "execution_count": null,
   "id": "7dbd0fbf",
   "metadata": {},
   "outputs": [],
   "source": []
  }
 ],
 "metadata": {
  "kernelspec": {
   "display_name": "Python 3",
   "language": "python",
   "name": "python3"
  },
  "language_info": {
   "codemirror_mode": {
    "name": "ipython",
    "version": 3
   },
   "file_extension": ".py",
   "mimetype": "text/x-python",
   "name": "python",
   "nbconvert_exporter": "python",
   "pygments_lexer": "ipython3",
   "version": "3.8.8"
  }
 },
 "nbformat": 4,
 "nbformat_minor": 5
}
